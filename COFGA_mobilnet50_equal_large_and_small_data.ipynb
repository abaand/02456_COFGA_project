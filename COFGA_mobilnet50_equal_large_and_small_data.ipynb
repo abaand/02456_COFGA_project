{
 "cells": [
  {
   "cell_type": "code",
   "execution_count": 1,
   "metadata": {},
   "outputs": [],
   "source": [
    "%matplotlib inline\n",
    "import matplotlib\n",
    "import numpy as np\n",
    "import pandas as pd\n",
    "import matplotlib.pyplot as plt\n",
    "import glob\n",
    "import os"
   ]
  },
  {
   "cell_type": "code",
   "execution_count": 2,
   "metadata": {},
   "outputs": [],
   "source": [
    "import torch"
   ]
  },
  {
   "cell_type": "code",
   "execution_count": 3,
   "metadata": {},
   "outputs": [],
   "source": [
    "from torchvision.datasets import ImageFolder"
   ]
  },
  {
   "cell_type": "code",
   "execution_count": 4,
   "metadata": {},
   "outputs": [],
   "source": [
    "import torchvision.transforms as transforms"
   ]
  },
  {
   "cell_type": "code",
   "execution_count": 5,
   "metadata": {},
   "outputs": [],
   "source": [
    "import torchvision"
   ]
  },
  {
   "cell_type": "code",
   "execution_count": 6,
   "metadata": {},
   "outputs": [],
   "source": [
    "import time"
   ]
  },
  {
   "cell_type": "code",
   "execution_count": 7,
   "metadata": {},
   "outputs": [],
   "source": [
    "import warnings\n",
    "warnings.filterwarnings(\"ignore\")"
   ]
  },
  {
   "cell_type": "markdown",
   "metadata": {},
   "source": [
    "### Read the designation file"
   ]
  },
  {
   "cell_type": "code",
   "execution_count": 8,
   "metadata": {},
   "outputs": [],
   "source": [
    "train = pd.read_csv('./dataset_v2/train.csv')\n",
    "train.replace(' ', '_', regex=True,inplace=True)\n",
    "train.replace('/', '_', regex=True,inplace=True)"
   ]
  },
  {
   "cell_type": "code",
   "execution_count": 9,
   "metadata": {},
   "outputs": [],
   "source": [
    "#train.T"
   ]
  },
  {
   "cell_type": "markdown",
   "metadata": {},
   "source": [
    "### Find the ground truth lists"
   ]
  },
  {
   "cell_type": "code",
   "execution_count": 10,
   "metadata": {},
   "outputs": [],
   "source": [
    "# where\n",
    "tag_id = train['tag_id']\n",
    "image_id = train['image_id']\n",
    "# features of \n",
    "general_class = train['general_class']\n",
    "sub_class = train['sub_class']\n",
    "color = train['color']\n",
    "\n",
    "# features of numbers\n",
    "sunroof = train['sunroof']\n",
    "sunroof[sunroof<0]=0\n",
    "luggage_carrier\t = train['luggage_carrier']\n",
    "luggage_carrier[luggage_carrier<0]=0\n",
    "open_cargo_area = train['open_cargo_area']\n",
    "open_cargo_area[open_cargo_area<0]=0\n",
    "enclosed_cab = train['enclosed_cab']\n",
    "enclosed_cab[enclosed_cab<0]=0\n",
    "spare_wheel = train['spare_wheel']\n",
    "spare_wheel[spare_wheel<0]=0\n",
    "wrecked = train['wrecked']\n",
    "wrecked[wrecked<0]=0\n",
    "flatbed = train['flatbed']\n",
    "flatbed[flatbed<0]=0\n",
    "ladder = train['ladder']\n",
    "ladder[ladder<0]=0\n",
    "enclosed_box = train['enclosed_box']\n",
    "enclosed_box[enclosed_box<0]=0\n",
    "soft_shell_box = train['soft_shell_box']\n",
    "soft_shell_box[soft_shell_box<0]=0\n",
    "harnessed_to_a_cart = train['harnessed_to_a_cart']\n",
    "harnessed_to_a_cart[harnessed_to_a_cart<0]=0\n",
    "ac_vents = train['ac_vents']\n",
    "ac_vents[ac_vents<0]=0"
   ]
  },
  {
   "cell_type": "markdown",
   "metadata": {},
   "source": [
    "### Define data loader and auxillary functions"
   ]
  },
  {
   "cell_type": "code",
   "execution_count": 11,
   "metadata": {},
   "outputs": [],
   "source": [
    "import torch\n",
    "from torchvision import datasets\n",
    "\n",
    "\n",
    "'''reads the tag id from the end of path'''      \n",
    "def get_id(path):\n",
    "    return int(path[-9:-4])\n",
    "\n",
    "'''# finds the index of the path id in the train file'''\n",
    "def get_indx(id_):\n",
    "    return [i for i, x in enumerate(tag_id==id_) if x][0]\n",
    "\n",
    "'''returns hot encoded vectors'''\n",
    "#\n",
    "# General class \n",
    "#  [ small_vehicle , large_vehicle ]  x 2 categories\n",
    "# \n",
    "# Color\n",
    "#  [Yellow , Red , Blue , Black , Silver_Grey , White , Green , Other] x 8 categories\n",
    "# sub class:\n",
    "#  [ Sedan , Hatchback , Minivan , Van , Pickup truck , Jeep ,Truck , Prime mover, Light truck , \n",
    "#    Crane truck , Concrete mixer Truck , Dedicated agricultural , Minibus , Bus , Tanker] x 15 categories\n",
    "# Features\n",
    "#  [Sunroof , Luggage_carrier , Open cargo area , Enclosed cab , Wrecked , Spare wheel , AC vents , Enclosed box , \n",
    "#   Soft shell box , Ladder , Open cargo area , Harnessed to a cart , Flatbed] x 13 categorioes\n",
    "#\n",
    "#\n",
    "def get_truth(id_):\n",
    "    # get \n",
    "    class1 = np.array([int(general_class.iloc[id_]=='small_vehicle'),\n",
    "                       int(general_class.iloc[id_]=='large_vehicle')])\n",
    "    \n",
    "    class2 = np.array([int(sub_class.iloc[id_]=='sedan'),\n",
    "                      int(sub_class.iloc[id_]=='hatchback'),\n",
    "                      int(sub_class.iloc[id_]=='minivan'),\n",
    "                      int(sub_class.iloc[id_]=='van'),\n",
    "                      int(sub_class.iloc[id_]=='pickup'),\n",
    "                      int(sub_class.iloc[id_]=='jeep'),\n",
    "                      int(sub_class.iloc[id_]=='truck'),\n",
    "                      int(sub_class.iloc[id_]=='prime_mover'),\n",
    "                      int(sub_class.iloc[id_]=='light_truck'),\n",
    "                      int(sub_class.iloc[id_]=='crane_truck'),\n",
    "                      int(sub_class.iloc[id_]=='concrete_mixer_truck'),\n",
    "                      int(sub_class.iloc[id_]=='dedicated_agricultural_vehicle'),\n",
    "                      int(sub_class.iloc[id_]=='minibus'),\n",
    "                      int(sub_class.iloc[id_]=='bus'),\n",
    "                      int(sub_class.iloc[id_]=='tanker')])\n",
    "    \n",
    "    features = np.array([sunroof.iloc[id_],\n",
    "                         luggage_carrier.iloc[id_],\n",
    "                         open_cargo_area.iloc[id_],\n",
    "                         enclosed_cab.iloc[id_],\n",
    "                         spare_wheel.iloc[id_],\n",
    "                         wrecked.iloc[id_],\n",
    "                         flatbed.iloc[id_],\n",
    "                         ladder.iloc[id_],\n",
    "                         enclosed_box.iloc[id_],\n",
    "                         soft_shell_box.iloc[id_],\n",
    "                         harnessed_to_a_cart.iloc[id_],\n",
    "                         ac_vents.iloc[id_]])\n",
    "    \n",
    "    col = np.array([int(color.iloc[id_]=='yellow'),\n",
    "                   int(color.iloc[id_]=='red'),\n",
    "                   int(color.iloc[id_]=='blue'),\n",
    "                   int(color.iloc[id_]=='black'),\n",
    "                   int(color.iloc[id_]=='silver_grey'),\n",
    "                   int(color.iloc[id_]=='white'),\n",
    "                   int(color.iloc[id_]=='green'),\n",
    "                   int(color.iloc[id_]=='other')])\n",
    "    return class1 , class2 , col , features\n",
    "\n",
    "def get_targets(paths):\n",
    "    batch_size = len(paths)\n",
    "    targets = np.zeros([batch_size,37])\n",
    "    for i,path in enumerate(paths):\n",
    "        id_ = get_id(path)\n",
    "        indx = get_indx(id_)\n",
    "        class1 , class2 , col , features = get_truth(indx)\n",
    "        targets[i,0:2]=class1\n",
    "        targets[i,2:17]=class2\n",
    "        targets[i,17:25]=col\n",
    "        targets[i,25:37]=features\n",
    "    return torch.tensor(targets,dtype=torch.float)\n",
    "        \n"
   ]
  },
  {
   "cell_type": "code",
   "execution_count": 12,
   "metadata": {},
   "outputs": [],
   "source": [
    "class ImageFolderWithPaths(datasets.ImageFolder):\n",
    "    \"\"\"Custom dataset that includes image file paths. Extends\n",
    "    torchvision.datasets.ImageFolder\n",
    "    \"\"\"\n",
    "\n",
    "    # override the __getitem__ method. this is the method dataloader calls\n",
    "    def __getitem__(self, index):\n",
    "        # this is what ImageFolder normally returns \n",
    "        original_tuple = super(ImageFolderWithPaths, self).__getitem__(index)\n",
    "        # the image file path\n",
    "        path = self.imgs[index][0]\n",
    "        # make a new tuple that includes original and the path\n",
    "        tuple_with_path = (original_tuple + (path,))\n",
    "        return tuple_with_path"
   ]
  },
  {
   "cell_type": "code",
   "execution_count": 13,
   "metadata": {},
   "outputs": [
    {
     "name": "stdout",
     "output_type": "stream",
     "text": [
      "torch.Size([32, 3, 224, 224])\n"
     ]
    }
   ],
   "source": [
    "# instantiate the dataset and dataloader\n",
    "batch_size = 32\n",
    "\n",
    "data_dir = './training imagery/class_2'\n",
    "dataset = ImageFolderWithPaths(data_dir,transforms.Compose([transforms.Resize(224),\n",
    "                                                            transforms.RandomRotation(359),\n",
    "                                                            transforms.ToTensor()]))#,\n",
    "                                                            #transforms.Normalize(mean=[0.485, 0.456, 0.406],\n",
    "                                                            #std=[0.229, 0.224, 0.225])])) # our custom dataset\n",
    "dataloader = torch.utils.data.DataLoader(dataset, batch_size=batch_size,shuffle=True,drop_last=True)\n",
    "\n",
    "# iterate over data\n",
    "for inputs, labels, paths in dataloader:\n",
    "    # use the above variables freely\n",
    "    #print(inputs, labels, paths)\n",
    "    print(inputs.size())\n",
    "    \n",
    "    \n",
    "    break"
   ]
  },
  {
   "cell_type": "markdown",
   "metadata": {},
   "source": [
    "### Model"
   ]
  },
  {
   "cell_type": "code",
   "execution_count": 14,
   "metadata": {},
   "outputs": [
    {
     "data": {
      "text/plain": [
       "True"
      ]
     },
     "execution_count": 14,
     "metadata": {},
     "output_type": "execute_result"
    }
   ],
   "source": [
    "use_cuda = torch.cuda.is_available()\n",
    "#use_cuda = False\n",
    "def get_variable(x):\n",
    "    \"\"\" Converts tensors to cuda, if available. \"\"\"\n",
    "    if use_cuda:\n",
    "        return x.cuda()\n",
    "    return x\n",
    "\n",
    "def get_numpy(x):\n",
    "    \"\"\" Get numpy array for both cuda and not. \"\"\"\n",
    "    if use_cuda:\n",
    "        return x.cpu().data.numpy()\n",
    "    return x.data.numpy()\n",
    "\n",
    "device = torch.device(\"cuda\" if  torch.cuda.is_available() else \"cpu\")\n",
    "\n",
    "use_cuda"
   ]
  },
  {
   "cell_type": "code",
   "execution_count": 15,
   "metadata": {},
   "outputs": [],
   "source": [
    "from MobileNetV2 import MobileNetV2\n",
    "\n",
    "mobnet50 = MobileNetV2(n_class=1000)\n",
    "mobnet50.cuda()\n",
    "state_dict = torch.load('mobilenet_v2.pth.tar') # add map_location='cpu' if no gpu\n",
    "mobnet50.load_state_dict(state_dict)"
   ]
  },
  {
   "cell_type": "code",
   "execution_count": 16,
   "metadata": {},
   "outputs": [
    {
     "name": "stdout",
     "output_type": "stream",
     "text": [
      "Net(\n",
      "  (l1): Linear(in_features=1000, out_features=37, bias=True)\n",
      "  (dropout): Dropout(p=0.5)\n",
      ")\n"
     ]
    }
   ],
   "source": [
    "import torch.nn as nn\n",
    "from torch.nn.functional import relu, elu, relu6, sigmoid, tanh, softmax\n",
    "class Net(nn.Module):\n",
    "    def __init__(self):\n",
    "        super(Net, self).__init__()\n",
    "                \n",
    "        self.l1 = nn.Linear(in_features=1000, \n",
    "                            out_features=37,\n",
    "                            bias=True)\n",
    "        \n",
    "        self.dropout = nn.Dropout(p=0.5) \n",
    "        \n",
    "       \n",
    "    def forward(self,x):\n",
    "        x = self.l1(x)\n",
    "        x = self.dropout(x)\n",
    "        out = sigmoid(x)\n",
    "        return out\n",
    "    \n",
    "net = Net()\n",
    "if use_cuda:\n",
    "    net.cuda()\n",
    "    #model_conv.cuda()\n",
    "print(net)"
   ]
  },
  {
   "cell_type": "code",
   "execution_count": 17,
   "metadata": {},
   "outputs": [
    {
     "data": {
      "text/plain": [
       "MobileNetV2(\n",
       "  (features): Sequential(\n",
       "    (0): Sequential(\n",
       "      (0): Conv2d(3, 32, kernel_size=(3, 3), stride=(2, 2), padding=(1, 1), bias=False)\n",
       "      (1): BatchNorm2d(32, eps=1e-05, momentum=0.1, affine=True, track_running_stats=True)\n",
       "      (2): ReLU6(inplace)\n",
       "    )\n",
       "    (1): InvertedResidual(\n",
       "      (conv): Sequential(\n",
       "        (0): Conv2d(32, 32, kernel_size=(3, 3), stride=(1, 1), padding=(1, 1), groups=32, bias=False)\n",
       "        (1): BatchNorm2d(32, eps=1e-05, momentum=0.1, affine=True, track_running_stats=True)\n",
       "        (2): ReLU6(inplace)\n",
       "        (3): Conv2d(32, 16, kernel_size=(1, 1), stride=(1, 1), bias=False)\n",
       "        (4): BatchNorm2d(16, eps=1e-05, momentum=0.1, affine=True, track_running_stats=True)\n",
       "      )\n",
       "    )\n",
       "    (2): InvertedResidual(\n",
       "      (conv): Sequential(\n",
       "        (0): Conv2d(16, 96, kernel_size=(1, 1), stride=(1, 1), bias=False)\n",
       "        (1): BatchNorm2d(96, eps=1e-05, momentum=0.1, affine=True, track_running_stats=True)\n",
       "        (2): ReLU6(inplace)\n",
       "        (3): Conv2d(96, 96, kernel_size=(3, 3), stride=(2, 2), padding=(1, 1), groups=96, bias=False)\n",
       "        (4): BatchNorm2d(96, eps=1e-05, momentum=0.1, affine=True, track_running_stats=True)\n",
       "        (5): ReLU6(inplace)\n",
       "        (6): Conv2d(96, 24, kernel_size=(1, 1), stride=(1, 1), bias=False)\n",
       "        (7): BatchNorm2d(24, eps=1e-05, momentum=0.1, affine=True, track_running_stats=True)\n",
       "      )\n",
       "    )\n",
       "    (3): InvertedResidual(\n",
       "      (conv): Sequential(\n",
       "        (0): Conv2d(24, 144, kernel_size=(1, 1), stride=(1, 1), bias=False)\n",
       "        (1): BatchNorm2d(144, eps=1e-05, momentum=0.1, affine=True, track_running_stats=True)\n",
       "        (2): ReLU6(inplace)\n",
       "        (3): Conv2d(144, 144, kernel_size=(3, 3), stride=(1, 1), padding=(1, 1), groups=144, bias=False)\n",
       "        (4): BatchNorm2d(144, eps=1e-05, momentum=0.1, affine=True, track_running_stats=True)\n",
       "        (5): ReLU6(inplace)\n",
       "        (6): Conv2d(144, 24, kernel_size=(1, 1), stride=(1, 1), bias=False)\n",
       "        (7): BatchNorm2d(24, eps=1e-05, momentum=0.1, affine=True, track_running_stats=True)\n",
       "      )\n",
       "    )\n",
       "    (4): InvertedResidual(\n",
       "      (conv): Sequential(\n",
       "        (0): Conv2d(24, 144, kernel_size=(1, 1), stride=(1, 1), bias=False)\n",
       "        (1): BatchNorm2d(144, eps=1e-05, momentum=0.1, affine=True, track_running_stats=True)\n",
       "        (2): ReLU6(inplace)\n",
       "        (3): Conv2d(144, 144, kernel_size=(3, 3), stride=(2, 2), padding=(1, 1), groups=144, bias=False)\n",
       "        (4): BatchNorm2d(144, eps=1e-05, momentum=0.1, affine=True, track_running_stats=True)\n",
       "        (5): ReLU6(inplace)\n",
       "        (6): Conv2d(144, 32, kernel_size=(1, 1), stride=(1, 1), bias=False)\n",
       "        (7): BatchNorm2d(32, eps=1e-05, momentum=0.1, affine=True, track_running_stats=True)\n",
       "      )\n",
       "    )\n",
       "    (5): InvertedResidual(\n",
       "      (conv): Sequential(\n",
       "        (0): Conv2d(32, 192, kernel_size=(1, 1), stride=(1, 1), bias=False)\n",
       "        (1): BatchNorm2d(192, eps=1e-05, momentum=0.1, affine=True, track_running_stats=True)\n",
       "        (2): ReLU6(inplace)\n",
       "        (3): Conv2d(192, 192, kernel_size=(3, 3), stride=(1, 1), padding=(1, 1), groups=192, bias=False)\n",
       "        (4): BatchNorm2d(192, eps=1e-05, momentum=0.1, affine=True, track_running_stats=True)\n",
       "        (5): ReLU6(inplace)\n",
       "        (6): Conv2d(192, 32, kernel_size=(1, 1), stride=(1, 1), bias=False)\n",
       "        (7): BatchNorm2d(32, eps=1e-05, momentum=0.1, affine=True, track_running_stats=True)\n",
       "      )\n",
       "    )\n",
       "    (6): InvertedResidual(\n",
       "      (conv): Sequential(\n",
       "        (0): Conv2d(32, 192, kernel_size=(1, 1), stride=(1, 1), bias=False)\n",
       "        (1): BatchNorm2d(192, eps=1e-05, momentum=0.1, affine=True, track_running_stats=True)\n",
       "        (2): ReLU6(inplace)\n",
       "        (3): Conv2d(192, 192, kernel_size=(3, 3), stride=(1, 1), padding=(1, 1), groups=192, bias=False)\n",
       "        (4): BatchNorm2d(192, eps=1e-05, momentum=0.1, affine=True, track_running_stats=True)\n",
       "        (5): ReLU6(inplace)\n",
       "        (6): Conv2d(192, 32, kernel_size=(1, 1), stride=(1, 1), bias=False)\n",
       "        (7): BatchNorm2d(32, eps=1e-05, momentum=0.1, affine=True, track_running_stats=True)\n",
       "      )\n",
       "    )\n",
       "    (7): InvertedResidual(\n",
       "      (conv): Sequential(\n",
       "        (0): Conv2d(32, 192, kernel_size=(1, 1), stride=(1, 1), bias=False)\n",
       "        (1): BatchNorm2d(192, eps=1e-05, momentum=0.1, affine=True, track_running_stats=True)\n",
       "        (2): ReLU6(inplace)\n",
       "        (3): Conv2d(192, 192, kernel_size=(3, 3), stride=(2, 2), padding=(1, 1), groups=192, bias=False)\n",
       "        (4): BatchNorm2d(192, eps=1e-05, momentum=0.1, affine=True, track_running_stats=True)\n",
       "        (5): ReLU6(inplace)\n",
       "        (6): Conv2d(192, 64, kernel_size=(1, 1), stride=(1, 1), bias=False)\n",
       "        (7): BatchNorm2d(64, eps=1e-05, momentum=0.1, affine=True, track_running_stats=True)\n",
       "      )\n",
       "    )\n",
       "    (8): InvertedResidual(\n",
       "      (conv): Sequential(\n",
       "        (0): Conv2d(64, 384, kernel_size=(1, 1), stride=(1, 1), bias=False)\n",
       "        (1): BatchNorm2d(384, eps=1e-05, momentum=0.1, affine=True, track_running_stats=True)\n",
       "        (2): ReLU6(inplace)\n",
       "        (3): Conv2d(384, 384, kernel_size=(3, 3), stride=(1, 1), padding=(1, 1), groups=384, bias=False)\n",
       "        (4): BatchNorm2d(384, eps=1e-05, momentum=0.1, affine=True, track_running_stats=True)\n",
       "        (5): ReLU6(inplace)\n",
       "        (6): Conv2d(384, 64, kernel_size=(1, 1), stride=(1, 1), bias=False)\n",
       "        (7): BatchNorm2d(64, eps=1e-05, momentum=0.1, affine=True, track_running_stats=True)\n",
       "      )\n",
       "    )\n",
       "    (9): InvertedResidual(\n",
       "      (conv): Sequential(\n",
       "        (0): Conv2d(64, 384, kernel_size=(1, 1), stride=(1, 1), bias=False)\n",
       "        (1): BatchNorm2d(384, eps=1e-05, momentum=0.1, affine=True, track_running_stats=True)\n",
       "        (2): ReLU6(inplace)\n",
       "        (3): Conv2d(384, 384, kernel_size=(3, 3), stride=(1, 1), padding=(1, 1), groups=384, bias=False)\n",
       "        (4): BatchNorm2d(384, eps=1e-05, momentum=0.1, affine=True, track_running_stats=True)\n",
       "        (5): ReLU6(inplace)\n",
       "        (6): Conv2d(384, 64, kernel_size=(1, 1), stride=(1, 1), bias=False)\n",
       "        (7): BatchNorm2d(64, eps=1e-05, momentum=0.1, affine=True, track_running_stats=True)\n",
       "      )\n",
       "    )\n",
       "    (10): InvertedResidual(\n",
       "      (conv): Sequential(\n",
       "        (0): Conv2d(64, 384, kernel_size=(1, 1), stride=(1, 1), bias=False)\n",
       "        (1): BatchNorm2d(384, eps=1e-05, momentum=0.1, affine=True, track_running_stats=True)\n",
       "        (2): ReLU6(inplace)\n",
       "        (3): Conv2d(384, 384, kernel_size=(3, 3), stride=(1, 1), padding=(1, 1), groups=384, bias=False)\n",
       "        (4): BatchNorm2d(384, eps=1e-05, momentum=0.1, affine=True, track_running_stats=True)\n",
       "        (5): ReLU6(inplace)\n",
       "        (6): Conv2d(384, 64, kernel_size=(1, 1), stride=(1, 1), bias=False)\n",
       "        (7): BatchNorm2d(64, eps=1e-05, momentum=0.1, affine=True, track_running_stats=True)\n",
       "      )\n",
       "    )\n",
       "    (11): InvertedResidual(\n",
       "      (conv): Sequential(\n",
       "        (0): Conv2d(64, 384, kernel_size=(1, 1), stride=(1, 1), bias=False)\n",
       "        (1): BatchNorm2d(384, eps=1e-05, momentum=0.1, affine=True, track_running_stats=True)\n",
       "        (2): ReLU6(inplace)\n",
       "        (3): Conv2d(384, 384, kernel_size=(3, 3), stride=(1, 1), padding=(1, 1), groups=384, bias=False)\n",
       "        (4): BatchNorm2d(384, eps=1e-05, momentum=0.1, affine=True, track_running_stats=True)\n",
       "        (5): ReLU6(inplace)\n",
       "        (6): Conv2d(384, 96, kernel_size=(1, 1), stride=(1, 1), bias=False)\n",
       "        (7): BatchNorm2d(96, eps=1e-05, momentum=0.1, affine=True, track_running_stats=True)\n",
       "      )\n",
       "    )\n",
       "    (12): InvertedResidual(\n",
       "      (conv): Sequential(\n",
       "        (0): Conv2d(96, 576, kernel_size=(1, 1), stride=(1, 1), bias=False)\n",
       "        (1): BatchNorm2d(576, eps=1e-05, momentum=0.1, affine=True, track_running_stats=True)\n",
       "        (2): ReLU6(inplace)\n",
       "        (3): Conv2d(576, 576, kernel_size=(3, 3), stride=(1, 1), padding=(1, 1), groups=576, bias=False)\n",
       "        (4): BatchNorm2d(576, eps=1e-05, momentum=0.1, affine=True, track_running_stats=True)\n",
       "        (5): ReLU6(inplace)\n",
       "        (6): Conv2d(576, 96, kernel_size=(1, 1), stride=(1, 1), bias=False)\n",
       "        (7): BatchNorm2d(96, eps=1e-05, momentum=0.1, affine=True, track_running_stats=True)\n",
       "      )\n",
       "    )\n",
       "    (13): InvertedResidual(\n",
       "      (conv): Sequential(\n",
       "        (0): Conv2d(96, 576, kernel_size=(1, 1), stride=(1, 1), bias=False)\n",
       "        (1): BatchNorm2d(576, eps=1e-05, momentum=0.1, affine=True, track_running_stats=True)\n",
       "        (2): ReLU6(inplace)\n",
       "        (3): Conv2d(576, 576, kernel_size=(3, 3), stride=(1, 1), padding=(1, 1), groups=576, bias=False)\n",
       "        (4): BatchNorm2d(576, eps=1e-05, momentum=0.1, affine=True, track_running_stats=True)\n",
       "        (5): ReLU6(inplace)\n",
       "        (6): Conv2d(576, 96, kernel_size=(1, 1), stride=(1, 1), bias=False)\n",
       "        (7): BatchNorm2d(96, eps=1e-05, momentum=0.1, affine=True, track_running_stats=True)\n",
       "      )\n",
       "    )\n",
       "    (14): InvertedResidual(\n",
       "      (conv): Sequential(\n",
       "        (0): Conv2d(96, 576, kernel_size=(1, 1), stride=(1, 1), bias=False)\n",
       "        (1): BatchNorm2d(576, eps=1e-05, momentum=0.1, affine=True, track_running_stats=True)\n",
       "        (2): ReLU6(inplace)\n",
       "        (3): Conv2d(576, 576, kernel_size=(3, 3), stride=(2, 2), padding=(1, 1), groups=576, bias=False)\n",
       "        (4): BatchNorm2d(576, eps=1e-05, momentum=0.1, affine=True, track_running_stats=True)\n",
       "        (5): ReLU6(inplace)\n",
       "        (6): Conv2d(576, 160, kernel_size=(1, 1), stride=(1, 1), bias=False)\n",
       "        (7): BatchNorm2d(160, eps=1e-05, momentum=0.1, affine=True, track_running_stats=True)\n",
       "      )\n",
       "    )\n",
       "    (15): InvertedResidual(\n",
       "      (conv): Sequential(\n",
       "        (0): Conv2d(160, 960, kernel_size=(1, 1), stride=(1, 1), bias=False)\n",
       "        (1): BatchNorm2d(960, eps=1e-05, momentum=0.1, affine=True, track_running_stats=True)\n",
       "        (2): ReLU6(inplace)\n",
       "        (3): Conv2d(960, 960, kernel_size=(3, 3), stride=(1, 1), padding=(1, 1), groups=960, bias=False)\n",
       "        (4): BatchNorm2d(960, eps=1e-05, momentum=0.1, affine=True, track_running_stats=True)\n",
       "        (5): ReLU6(inplace)\n",
       "        (6): Conv2d(960, 160, kernel_size=(1, 1), stride=(1, 1), bias=False)\n",
       "        (7): BatchNorm2d(160, eps=1e-05, momentum=0.1, affine=True, track_running_stats=True)\n",
       "      )\n",
       "    )\n",
       "    (16): InvertedResidual(\n",
       "      (conv): Sequential(\n",
       "        (0): Conv2d(160, 960, kernel_size=(1, 1), stride=(1, 1), bias=False)\n",
       "        (1): BatchNorm2d(960, eps=1e-05, momentum=0.1, affine=True, track_running_stats=True)\n",
       "        (2): ReLU6(inplace)\n",
       "        (3): Conv2d(960, 960, kernel_size=(3, 3), stride=(1, 1), padding=(1, 1), groups=960, bias=False)\n",
       "        (4): BatchNorm2d(960, eps=1e-05, momentum=0.1, affine=True, track_running_stats=True)\n",
       "        (5): ReLU6(inplace)\n",
       "        (6): Conv2d(960, 160, kernel_size=(1, 1), stride=(1, 1), bias=False)\n",
       "        (7): BatchNorm2d(160, eps=1e-05, momentum=0.1, affine=True, track_running_stats=True)\n",
       "      )\n",
       "    )\n",
       "    (17): InvertedResidual(\n",
       "      (conv): Sequential(\n",
       "        (0): Conv2d(160, 960, kernel_size=(1, 1), stride=(1, 1), bias=False)\n",
       "        (1): BatchNorm2d(960, eps=1e-05, momentum=0.1, affine=True, track_running_stats=True)\n",
       "        (2): ReLU6(inplace)\n",
       "        (3): Conv2d(960, 960, kernel_size=(3, 3), stride=(1, 1), padding=(1, 1), groups=960, bias=False)\n",
       "        (4): BatchNorm2d(960, eps=1e-05, momentum=0.1, affine=True, track_running_stats=True)\n",
       "        (5): ReLU6(inplace)\n",
       "        (6): Conv2d(960, 320, kernel_size=(1, 1), stride=(1, 1), bias=False)\n",
       "        (7): BatchNorm2d(320, eps=1e-05, momentum=0.1, affine=True, track_running_stats=True)\n",
       "      )\n",
       "    )\n",
       "    (18): Sequential(\n",
       "      (0): Conv2d(320, 1280, kernel_size=(1, 1), stride=(1, 1), bias=False)\n",
       "      (1): BatchNorm2d(1280, eps=1e-05, momentum=0.1, affine=True, track_running_stats=True)\n",
       "      (2): ReLU6(inplace)\n",
       "    )\n",
       "  )\n",
       "  (classifier): Sequential(\n",
       "    (0): Dropout(p=0.2)\n",
       "    (1): Linear(in_features=1280, out_features=1000, bias=True)\n",
       "  )\n",
       ")"
      ]
     },
     "execution_count": 17,
     "metadata": {},
     "output_type": "execute_result"
    }
   ],
   "source": [
    "mobnet50"
   ]
  },
  {
   "cell_type": "markdown",
   "metadata": {},
   "source": [
    "### Optimizer"
   ]
  },
  {
   "cell_type": "code",
   "execution_count": 18,
   "metadata": {},
   "outputs": [],
   "source": [
    "#criterion = nn.BCEWithLogitsLoss(size_average='True')\n",
    "params = list(net.parameters()) + list(mobnet50.parameters())\n",
    "optimizer = torch.optim.SGD(params, lr = 0.01, momentum=0.9)"
   ]
  },
  {
   "cell_type": "markdown",
   "metadata": {},
   "source": [
    "### Criterion"
   ]
  },
  {
   "cell_type": "code",
   "execution_count": 19,
   "metadata": {},
   "outputs": [],
   "source": [
    "def criterion(prob,target):\n",
    "    \n",
    "    #accp = torch.log(prob*target+1e-2)\n",
    "    accp = prob*target\n",
    "    accp = accp.sum()/target.sum()\n",
    "    \n",
    "    #accn = torch.log(prob*(1-target)+1e-2)\n",
    "    accn = prob*(1-target)\n",
    "    accn = accn.sum()/(1-target).sum()\n",
    "    \n",
    "    return -accp+accn"
   ]
  },
  {
   "cell_type": "code",
   "execution_count": 20,
   "metadata": {},
   "outputs": [
    {
     "data": {
      "text/plain": [
       "device(type='cuda')"
      ]
     },
     "execution_count": 20,
     "metadata": {},
     "output_type": "execute_result"
    }
   ],
   "source": [
    "device"
   ]
  },
  {
   "cell_type": "code",
   "execution_count": 21,
   "metadata": {},
   "outputs": [
    {
     "name": "stdout",
     "output_type": "stream",
     "text": [
      "torch.Size([32, 3, 224, 224])\n",
      "tensor(0.0515, device='cuda:0', grad_fn=<ThAddBackward>)\n",
      "torch.Size([32, 37])\n",
      "torch.Size([32, 37])\n"
     ]
    }
   ],
   "source": [
    "''' TEST WITH A SINGLE PASS'''\n",
    "for inputs, labels, paths in dataloader:\n",
    "    optimizer.zero_grad()\n",
    "    \n",
    "    inputs = get_variable(inputs)\n",
    "    print(inputs.shape)\n",
    "    inputs.to(device)\n",
    "    \n",
    "    mobout = mobnet50(inputs)\n",
    "    \n",
    "    out = net(mobout)\n",
    "    \n",
    "    targets = get_targets(paths).to(device)\n",
    "        \n",
    "    loss = criterion(out,targets)\n",
    "    print(loss)\n",
    "    loss.backward()\n",
    "    optimizer.step()\n",
    "    \n",
    "    #out = out.reshape(batch_size,2048,7,7)\n",
    "    print(out.shape)\n",
    "    print(targets.shape)\n",
    "    \n",
    "    break"
   ]
  },
  {
   "cell_type": "markdown",
   "metadata": {},
   "source": [
    "### Average positive accuracy and negative accuracy"
   ]
  },
  {
   "cell_type": "code",
   "execution_count": 22,
   "metadata": {},
   "outputs": [],
   "source": [
    "def avg_pos_acc(prob,target):\n",
    "    if np.sum(target)>0:\n",
    "        acc = np.sum(prob*target)/np.sum(target)\n",
    "    else:\n",
    "        acc = 0\n",
    "    return acc\n",
    "\n",
    "def avg_neg_acc(prob,target):\n",
    "    if np.sum(target)>0:\n",
    "        acc = np.sum(prob*(target-1))/np.sum((target-1))\n",
    "    else:\n",
    "        acc = 0\n",
    "    return acc\n",
    "\n",
    "def class_acc(prob,target):\n",
    "    classes = np.array(['Small vehicle',\n",
    "              'Large vehicle',\n",
    "              'Sedan',\n",
    "              'Hatchback',\n",
    "              'Minivan',\n",
    "              'Van',\n",
    "              'Pickup',\n",
    "              'Jeep',\n",
    "              'Truck',\n",
    "              'Prime mover',\n",
    "              'Light truck',\n",
    "              'Crane truck',\n",
    "              'Concrete mixer truck',\n",
    "              'Dedicated agricultural vehice',\n",
    "              'Minibus',\n",
    "              'Bus',\n",
    "              'Tanker',\n",
    "              'Yellow',\n",
    "              'Red',\n",
    "              'Blue',\n",
    "              'Black',\n",
    "              'Silve grey',\n",
    "              'White',\n",
    "              'Green',\n",
    "              'Other'\n",
    "              'Sunroof',\n",
    "              'Open cargo area',\n",
    "              'Enclosed cab',\n",
    "              'Spare weel',\n",
    "              'Wrecked',\n",
    "              'Flatbed',\n",
    "              'Ladder',\n",
    "              'Enclosed box',\n",
    "              'Soft shell',\n",
    "              'Harnessed to a cart',\n",
    "              'Ac vents'])\n",
    "    \n",
    "    classes_pos_acc = np.zeros(np.size(classes))\n",
    "    classes_neg_acc = np.zeros(np.size(classes))\n",
    "    for i, class_ in enumerate(classes):\n",
    "        classes_pos_acc[i] = avg_pos_acc(prob[:,i],target[:,i])\n",
    "        classes_neg_acc[i] = avg_neg_acc(prob[:,i],target[:,i])\n",
    "    return classes_pos_acc, classes_neg_acc, classes\n",
    "        \n",
    "        "
   ]
  },
  {
   "cell_type": "code",
   "execution_count": null,
   "metadata": {},
   "outputs": [],
   "source": []
  },
  {
   "cell_type": "code",
   "execution_count": 23,
   "metadata": {},
   "outputs": [],
   "source": [
    "from IPython.display import clear_output"
   ]
  },
  {
   "cell_type": "code",
   "execution_count": 24,
   "metadata": {},
   "outputs": [],
   "source": [
    "def live_plot(data1,data2,classes,class_pos,class_neg, figsize=(7,5), title=''):\n",
    "    clear_output(wait=True)\n",
    "    plt.figure(figsize=figsize)\n",
    "    \n",
    "    plt.plot(data1, label='Average correctly assigned probability')\n",
    "    plt.plot(data2, label='Average wrongly assigned probability')\n",
    "    plt.title(title)\n",
    "    plt.grid(True)\n",
    "    plt.xlabel('10\\'th Batch')\n",
    "    plt.legend(loc='top left') # the plot evolves to the right\n",
    "    plt.ylim([0,1])\n",
    "    \n",
    "    plt.figure(figsize=figsize)\n",
    "    \n",
    "    plt.plot(class_pos, label='Average correctly assigned probability',marker='o',markersize=7,linewidth=0)\n",
    "    plt.plot(class_neg, label='Average wrongly assigned probability',marker='x',markersize=7,linewidth=0)\n",
    "    x_ticks=classes\n",
    "    plt.xticks(np.arange(np.size(x_ticks)),x_ticks)\n",
    "    plt.xticks(rotation=90)\n",
    "    plt.legend(loc='top left') # the plot evolves to the right\n",
    "    plt.ylim([0,1])\n",
    "    plt.show();"
   ]
  },
  {
   "cell_type": "markdown",
   "metadata": {},
   "source": [
    "### Training function"
   ]
  },
  {
   "cell_type": "code",
   "execution_count": 25,
   "metadata": {},
   "outputs": [],
   "source": [
    "def train_model(criterion, optimizer, num_epochs=25):\n",
    "    #best_model_wts = copy.deepcopy(model.state_dict())\n",
    "    #best_acc = 0.0\n",
    "    running_loss = np.array([])\n",
    "    pos_acc = np.array([])\n",
    "    neg_acc = np.array([])\n",
    "    #ax2.plt.plot(running_loss, label='loss')\n",
    "                #ax2.xlabel('Batch')\n",
    "                #ax2.ylabel('Loss')\n",
    "                \n",
    "                #plt.figure.canvas.draw()\n",
    "    \n",
    "    \n",
    "    for epoch in range(num_epochs):\n",
    "        #print('Epoch {}/{}'.format(epoch, num_epochs - 1))\n",
    "        #print('-' * 10)\n",
    "        \n",
    "        # Each epoch has a training and validation phase\n",
    "        \n",
    "            #model_conv.train()\n",
    "            \n",
    "            # Iterate over data.\n",
    "            for i,(inputs, labels, paths) in enumerate(dataloader):\n",
    "                ############ SET TRAIN #################\n",
    "                optimizer.zero_grad()\n",
    "                net.train()\n",
    "                mobnet50.train()\n",
    "                ########### INPUTS #####################\n",
    "                inputs = get_variable(inputs)\n",
    "                inputs.to(device)\n",
    "                ########## FORWARD #####################\n",
    "                mobout = mobnet50(inputs)\n",
    "                out = net(mobout)\n",
    "                ########## GET TARGETS #################\n",
    "                targets = get_targets(paths).to(device)\n",
    "                ########## BACKWARD ####################\n",
    "                loss = criterion(out,targets)\n",
    "                loss.backward()\n",
    "                ########## STEP ########################\n",
    "                optimizer.step()\n",
    "                ######### STATISTICS ###################\n",
    "                if i%10==0:\n",
    "                    net.eval()\n",
    "                    mobnet50.eval()\n",
    "                    ########## FORWARD #####################\n",
    "                    mobout = mobnet50(inputs)\n",
    "                    out = net(mobout)\n",
    "                    ######### EVALUATE #####################\n",
    "                    running_loss = np.append( running_loss, get_numpy(loss) )\n",
    "                    pos_acc = np.append( pos_acc, avg_pos_acc( get_numpy(out), get_numpy(targets) ) )\n",
    "                    neg_acc = np.append( neg_acc, avg_neg_acc( get_numpy(out), get_numpy(targets) ) )\n",
    "                    classes_pos_acc, classes_neg_acc, classes = class_acc(get_numpy(out), get_numpy(targets))\n",
    "                    ######## PLOT ##########################\n",
    "                    live_plot(pos_acc,neg_acc,classes,classes_pos_acc,classes_neg_acc)\n",
    "                \n",
    "                \n",
    "                \n",
    "                \n",
    "                \n",
    "            #print('{} Loss: {:.4f} '.format(\n",
    "            #        phase, epoch_loss/i))\n",
    "            #time_elapsed = time.time() - since\n",
    "            #print('Epoch complete in {:.0f}m {:.0f}s'.format(\n",
    "            #        time_elapsed // 60, time_elapsed % 60))\n",
    "            \n",
    "        #print()\n",
    "        \n",
    "    return "
   ]
  },
  {
   "cell_type": "code",
   "execution_count": 26,
   "metadata": {},
   "outputs": [
    {
     "data": {
      "image/png": "[encoded data removed]",
      "text/plain": [
       "<Figure size 504x360 with 1 Axes>"
      ]
     },
     "metadata": {},
     "output_type": "display_data"
    },
    {
     "data": {
      "image/png": "[encoded data removed]",
      "text/plain": [
       "<Figure size 504x360 with 1 Axes>"
      ]
     },
     "metadata": {},
     "output_type": "display_data"
    }
   ],
   "source": [
    "train_model(criterion,optimizer,num_epochs=100)"
   ]
  },
  {
   "cell_type": "markdown",
   "metadata": {},
   "source": [
    "### Test the network"
   ]
  },
  {
   "cell_type": "code",
   "execution_count": 27,
   "metadata": {},
   "outputs": [],
   "source": [
    "def test_model():\n",
    "    #best_model_wts = copy.deepcopy(model.state_dict())\n",
    "    #best_acc = 0.0\n",
    "    running_loss = np.array([])\n",
    "    \n",
    "    net.eval()\n",
    "    mobnet50.eval()\n",
    "    # Iterate over data.\n",
    "    target_list = np.array([])\n",
    "    out_list = np.array([])\n",
    "    for i,(inputs, labels, paths) in enumerate(dataloader):\n",
    "        inputs = get_variable(inputs)\n",
    "        inputs.to(device)\n",
    "        ########## FORWARD #####################\n",
    "        mobout = mobnet50(inputs)\n",
    "        out = net(mobout)\n",
    "        targets = get_targets(paths).to(device)\n",
    "        ######### EVALUATE #####################\n",
    "        \n",
    "        target_list = np.append( target_list, get_numpy(targets) )\n",
    "        out_list = np.append( out_list, get_numpy(out) )\n",
    "        #if i>5:\n",
    "        #     break\n",
    "    out_list = out_list.reshape((i+1)*batch_size,37)\n",
    "    target_list = target_list.reshape((i+1)*batch_size,37)\n",
    "    \n",
    "    classes_pos_acc, classes_neg_acc, classes = class_acc(out_list,target_list)\n",
    "    pos_acc = avg_pos_acc( out_list, target_list )\n",
    "    neg_acc = avg_neg_acc( out_list, target_list )\n",
    "    \n",
    "    plt.figure(figsize=(7,5))\n",
    "    plt.plot(classes_pos_acc, label='Average correctly assigned probability',marker='o',markersize=7,linewidth=0)\n",
    "    plt.plot(classes_neg_acc, label='Average wrongly assigned probability',marker='x',markersize=7,linewidth=0)\n",
    "    x_ticks=classes\n",
    "    plt.xticks(np.arange(np.size(x_ticks)),x_ticks)\n",
    "    plt.xticks(rotation=90)\n",
    "    plt.legend(loc='top left') # the plot evolves to the right\n",
    "    plt.ylim([0,1])\n",
    "    plt.show()\n",
    "    \n",
    "    return pos_acc, neg_acc"
   ]
  },
  {
   "cell_type": "code",
   "execution_count": 28,
   "metadata": {},
   "outputs": [
    {
     "data": {
      "image/png": "[encoded data removed]",
      "text/plain": [
       "<Figure size 504x360 with 1 Axes>"
      ]
     },
     "metadata": {},
     "output_type": "display_data"
    },
    {
     "name": "stdout",
     "output_type": "stream",
     "text": [
      "0.9502659709093616\n",
      "0.03668913931332807\n"
     ]
    }
   ],
   "source": [
    "pos_acc , neg_acc = test_model()\n",
    "print(pos_acc)\n",
    "print(neg_acc)"
   ]
  }
 ],
 "metadata": {
  "kernelspec": {
   "display_name": "Python 3",
   "language": "python",
   "name": "python3"
  },
  "language_info": {
   "codemirror_mode": {
    "name": "ipython",
    "version": 3
   },
   "file_extension": ".py",
   "mimetype": "text/x-python",
   "name": "python",
   "nbconvert_exporter": "python",
   "pygments_lexer": "ipython3",
   "version": "3.6.5"
  }
 },
 "nbformat": 4,
 "nbformat_minor": 2
}
